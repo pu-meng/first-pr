{
 "cells": [
  {
   "cell_type": "code",
   "execution_count": null,
   "id": "264cdbf2",
   "metadata": {},
   "outputs": [
    {
     "name": "stdout",
     "output_type": "stream",
     "text": [
      "tensor([[ 0,  1,  2,  3],\n",
      "        [ 4,  5,  6,  7],\n",
      "        [ 8,  9, 10, 11]])\n",
      "tensor([[[ 0,  1,  2],\n",
      "         [ 3,  4,  5]],\n",
      "\n",
      "        [[ 6,  7,  8],\n",
      "         [ 9, 10, 11]]])\n",
      "torch.Size([2, 2, 3])\n",
      "tensor([[0., 0., 0., 0.],\n",
      "        [0., 0., 0., 0.]])\n",
      "tensor([[ 0.,  1.,  2.,  3.],\n",
      "        [ 4.,  5.,  6.,  7.],\n",
      "        [ 8.,  9., 10., 11.],\n",
      "        [ 0.,  0.,  0.,  0.],\n",
      "        [ 0.,  0.,  0.,  0.]])\n",
      "data=    NumRooms Alley   Price\n",
      "0       NaN  Pave  127500\n",
      "1       2.0   NaN  106000\n",
      "2       4.0   NaN  178100\n",
      "3       NaN   NaN  140000\n",
      "inputs    NumRooms Alley\n",
      "0       NaN  Pave\n",
      "1       2.0   NaN\n",
      "2       4.0   NaN\n",
      "3       NaN   NaN\n",
      "inputs1=    NumRooms  Alley_Pave  Alley_nan\n",
      "0       NaN        True      False\n",
      "1       2.0       False       True\n",
      "2       4.0       False       True\n",
      "3       NaN       False       True\n",
      "A= tensor([[ 0,  1,  2,  3,  4],\n",
      "        [ 5,  6,  7,  8,  9],\n",
      "        [10, 11, 12, 13, 14],\n",
      "        [15, 16, 17, 18, 19]])\n",
      "torch.Size([5])\n",
      "torch.Size([4])\n",
      "tensor([[  30,   80,  130,  180],\n",
      "        [  80,  255,  430,  605],\n",
      "        [ 130,  430,  730, 1030],\n",
      "        [ 180,  605, 1030, 1455]])\n",
      "x tensor([0., 1., 2., 3.], requires_grad=True)\n",
      "x.grad= tensor([ 0.,  4.,  8., 12.])\n",
      "y= tensor(28., grad_fn=<MulBackward0>)\n",
      "x.grad1 tensor([1., 1., 1., 1.])\n"
     ]
    }
   ],
   "source": [
    "import torch\n",
    "x=torch.arange(12).reshape(3,4)\n",
    "print(x)\n",
    "print(x.reshape(2,2,3))\n",
    "y=x.reshape(2,2,3)\n",
    "print(y.shape)\n",
    "x1=torch.zeros(2,4)\n",
    "print(x1)\n",
    "print(torch.cat((x,x1),dim=0))\n",
    "#import os\n",
    "import os\n",
    "#exist_ok=True表示如果路径已经存在，不会报错\n",
    "os.makedirs(os.path.join('/home/pumengyu','limu'),exist_ok=True)\n",
    "data_file=os.path.join('/home/pumengyu/','data','house_tiny.csv')\n",
    "#with open这里的'w'如果data_file不存在，会创建，'w'会清空原有内容并且写入\n",
    "with open(data_file,'w') as f:\n",
    "    f.write('NumRooms,Alley,Price\\n')\n",
    "\n",
    "    f.write('NA,Pave,127500\\n')        # 每行表示一个数据样本\n",
    "    f.write('2,NA,106000\\n')\n",
    "    f.write('4,NA,178100\\n')\n",
    "    f.write('NA,NA,140000\\n')\n",
    "import pandas as pd\n",
    "data=pd.read_csv(data_file)\n",
    "print(\"data=\",data)\n",
    "inputs=data.iloc[:,0:2]\n",
    "output=data.iloc[:,2]\n",
    "\n",
    "print(\"inputs\",inputs)\n",
    "inputs1=pd.get_dummies(inputs,dummy_na=True)\n",
    "print(\"inputs1=\",inputs1)\n",
    "\n",
    "A=torch.arange(20).reshape(4,5)\n",
    "print(\"A=\",A)\n",
    "# print(\"A.T=\",A.T)\n",
    "print(A.sum(axis=0).shape)\n",
    "print(A.sum(axis=1).shape)\n",
    "print(torch.mm(A,A.T))\n",
    "#自动微分\n",
    "x=torch.arange(4.0)\n",
    "#等价于x=torch.arange(4.0,requires_grad=True)\n",
    "x.requires_grad=True\n",
    "\n",
    "x.grad#默认值是None\n",
    "y=2*torch.dot(x,x)\n",
    "\n",
    "y.backward()\n",
    "\n",
    "x.grad\n",
    "print(\"x\",x)\n",
    "print(\"x.grad=\",x.grad)\n",
    "print(\"y=\",y)\n",
    "y=x.sum()\n",
    "x.grad.zero_()\n",
    "y.backward()\n",
    "print(\"x.grad1\",x.grad)\n",
    "\n"
   ]
  },
  {
   "cell_type": "markdown",
   "id": "1ae48219",
   "metadata": {},
   "source": [
    "**概率论,**\n",
    "```python\n",
    "from torch.distribution import multinomial "
   ]
  },
  {
   "cell_type": "code",
   "execution_count": 45,
   "id": "eef2a046",
   "metadata": {},
   "outputs": [
    {
     "name": "stdout",
     "output_type": "stream",
     "text": [
      "tensor([0.1667, 0.1667, 0.1667, 0.1667, 0.1667, 0.1667])\n",
      "fair= tensor([0.1667, 0.1667, 0.1667, 0.1667, 0.1667, 0.1667])\n",
      "a tensor([0.1720, 0.1660, 0.2020, 0.1510, 0.1570, 0.1520])\n",
      "counts.shape= torch.Size([500, 6])\n",
      "counts.cumsum.shape= torch.Size([500, 6])\n"
     ]
    }
   ],
   "source": [
    "from torch.distributions import multinomial\n",
    "fa=torch.ones(6)/6\n",
    "print(fa)\n",
    "fair=torch.ones([6])/6\n",
    "print(\"fair=\",fair)\n",
    "a=multinomial.Multinomial(1000,fair).sample()\n",
    "print(\"a\",a/1000)\n",
    "counts=multinomial.Multinomial(1000,fair).sample((500,))\n",
    "print(\"counts.shape=\",counts.shape)\n",
    "print(\"counts.cumsum.shape=\",counts.cumsum(dim=0).shape)\n",
    "cum_counts=counts.cumsum(dim=0)"
   ]
  }
 ],
 "metadata": {
  "kernelspec": {
   "display_name": "puenv",
   "language": "python",
   "name": "python3"
  },
  "language_info": {
   "codemirror_mode": {
    "name": "ipython",
    "version": 3
   },
   "file_extension": ".py",
   "mimetype": "text/x-python",
   "name": "python",
   "nbconvert_exporter": "python",
   "pygments_lexer": "ipython3",
   "version": "3.13.7"
  }
 },
 "nbformat": 4,
 "nbformat_minor": 5
}
